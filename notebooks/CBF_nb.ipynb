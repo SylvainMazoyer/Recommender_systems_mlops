{
 "cells": [
  {
   "cell_type": "code",
   "execution_count": 1,
   "metadata": {},
   "outputs": [],
   "source": [
    "%reload_ext autoreload\n",
    "%autoreload 2"
   ]
  },
  {
   "cell_type": "code",
   "execution_count": 1,
   "metadata": {},
   "outputs": [],
   "source": [
    "import pandas as pd\n",
    "from sklearn.feature_extraction.text import TfidfVectorizer\n",
    "from sklearn.metrics.pairwise import cosine_similarity\n",
    "from tabulate import tabulate"
   ]
  },
  {
   "cell_type": "markdown",
   "metadata": {},
   "source": [
    "## Entraînement du modèle"
   ]
  },
  {
   "cell_type": "code",
   "execution_count": null,
   "metadata": {},
   "outputs": [
    {
     "data": {
      "text/html": [
       "<div>\n",
       "<style scoped>\n",
       "    .dataframe tbody tr th:only-of-type {\n",
       "        vertical-align: middle;\n",
       "    }\n",
       "\n",
       "    .dataframe tbody tr th {\n",
       "        vertical-align: top;\n",
       "    }\n",
       "\n",
       "    .dataframe thead th {\n",
       "        text-align: right;\n",
       "    }\n",
       "</style>\n",
       "<table border=\"1\" class=\"dataframe\">\n",
       "  <thead>\n",
       "    <tr style=\"text-align: right;\">\n",
       "      <th></th>\n",
       "      <th>movieId</th>\n",
       "      <th>title</th>\n",
       "      <th>genres</th>\n",
       "    </tr>\n",
       "  </thead>\n",
       "  <tbody>\n",
       "    <tr>\n",
       "      <th>0</th>\n",
       "      <td>1</td>\n",
       "      <td>Toy Story (1995)</td>\n",
       "      <td>Adventure|Animation|Children|Comedy|Fantasy</td>\n",
       "    </tr>\n",
       "    <tr>\n",
       "      <th>1</th>\n",
       "      <td>2</td>\n",
       "      <td>Jumanji (1995)</td>\n",
       "      <td>Adventure|Children|Fantasy</td>\n",
       "    </tr>\n",
       "    <tr>\n",
       "      <th>2</th>\n",
       "      <td>3</td>\n",
       "      <td>Grumpier Old Men (1995)</td>\n",
       "      <td>Comedy|Romance</td>\n",
       "    </tr>\n",
       "    <tr>\n",
       "      <th>3</th>\n",
       "      <td>4</td>\n",
       "      <td>Waiting to Exhale (1995)</td>\n",
       "      <td>Comedy|Drama|Romance</td>\n",
       "    </tr>\n",
       "    <tr>\n",
       "      <th>4</th>\n",
       "      <td>5</td>\n",
       "      <td>Father of the Bride Part II (1995)</td>\n",
       "      <td>Comedy</td>\n",
       "    </tr>\n",
       "    <tr>\n",
       "      <th>5</th>\n",
       "      <td>6</td>\n",
       "      <td>Heat (1995)</td>\n",
       "      <td>Action|Crime|Thriller</td>\n",
       "    </tr>\n",
       "    <tr>\n",
       "      <th>6</th>\n",
       "      <td>7</td>\n",
       "      <td>Sabrina (1995)</td>\n",
       "      <td>Comedy|Romance</td>\n",
       "    </tr>\n",
       "    <tr>\n",
       "      <th>7</th>\n",
       "      <td>8</td>\n",
       "      <td>Tom and Huck (1995)</td>\n",
       "      <td>Adventure|Children</td>\n",
       "    </tr>\n",
       "    <tr>\n",
       "      <th>8</th>\n",
       "      <td>9</td>\n",
       "      <td>Sudden Death (1995)</td>\n",
       "      <td>Action</td>\n",
       "    </tr>\n",
       "    <tr>\n",
       "      <th>9</th>\n",
       "      <td>10</td>\n",
       "      <td>GoldenEye (1995)</td>\n",
       "      <td>Action|Adventure|Thriller</td>\n",
       "    </tr>\n",
       "  </tbody>\n",
       "</table>\n",
       "</div>"
      ],
      "text/plain": [
       "   movieId                               title  \\\n",
       "0        1                    Toy Story (1995)   \n",
       "1        2                      Jumanji (1995)   \n",
       "2        3             Grumpier Old Men (1995)   \n",
       "3        4            Waiting to Exhale (1995)   \n",
       "4        5  Father of the Bride Part II (1995)   \n",
       "5        6                         Heat (1995)   \n",
       "6        7                      Sabrina (1995)   \n",
       "7        8                 Tom and Huck (1995)   \n",
       "8        9                 Sudden Death (1995)   \n",
       "9       10                    GoldenEye (1995)   \n",
       "\n",
       "                                        genres  \n",
       "0  Adventure|Animation|Children|Comedy|Fantasy  \n",
       "1                   Adventure|Children|Fantasy  \n",
       "2                               Comedy|Romance  \n",
       "3                         Comedy|Drama|Romance  \n",
       "4                                       Comedy  \n",
       "5                        Action|Crime|Thriller  \n",
       "6                               Comedy|Romance  \n",
       "7                           Adventure|Children  \n",
       "8                                       Action  \n",
       "9                    Action|Adventure|Thriller  "
      ]
     },
     "execution_count": 2,
     "metadata": {},
     "output_type": "execute_result"
    }
   ],
   "source": [
    "# Import du jeu de données sur les films\n",
    "df = pd.read_csv('../data/movies.csv')\n",
    "\n",
    "# Affichage des 10 premières lignes\n",
    "df.head(10)"
   ]
  },
  {
   "cell_type": "code",
   "execution_count": null,
   "metadata": {},
   "outputs": [
    {
     "data": {
      "text/plain": [
       "'Toy Story (1995)'"
      ]
     },
     "execution_count": 3,
     "metadata": {},
     "output_type": "execute_result"
    }
   ],
   "source": [
    "df['title'].iloc[0]"
   ]
  },
  {
   "cell_type": "code",
   "execution_count": null,
   "metadata": {},
   "outputs": [
    {
     "data": {
      "text/plain": [
       "'Adventure|Animation|Children|Comedy|Fantasy'"
      ]
     },
     "execution_count": 4,
     "metadata": {},
     "output_type": "execute_result"
    }
   ],
   "source": [
    "df['genres'].iloc[0]"
   ]
  },
  {
   "cell_type": "code",
   "execution_count": null,
   "metadata": {},
   "outputs": [
    {
     "name": "stdout",
     "output_type": "stream",
     "text": [
      "['Adventure', 'Animation', 'Children', 'Comedy', 'Fantasy']\n"
     ]
    }
   ],
   "source": [
    "print(df['genres'].iloc[0].split('|'))"
   ]
  },
  {
   "cell_type": "code",
   "execution_count": null,
   "metadata": {},
   "outputs": [],
   "source": [
    "list_genres = df['genres'].iloc[0].split('|')"
   ]
  },
  {
   "cell_type": "code",
   "execution_count": null,
   "metadata": {},
   "outputs": [
    {
     "name": "stdout",
     "output_type": "stream",
     "text": [
      "Adventure Animation Children Comedy Fantasy\n"
     ]
    }
   ],
   "source": [
    "genres = ' '.join(list_genres)\n",
    "print(genres)"
   ]
  },
  {
   "cell_type": "code",
   "execution_count": null,
   "metadata": {},
   "outputs": [
    {
     "data": {
      "text/html": [
       "<div>\n",
       "<style scoped>\n",
       "    .dataframe tbody tr th:only-of-type {\n",
       "        vertical-align: middle;\n",
       "    }\n",
       "\n",
       "    .dataframe tbody tr th {\n",
       "        vertical-align: top;\n",
       "    }\n",
       "\n",
       "    .dataframe thead th {\n",
       "        text-align: right;\n",
       "    }\n",
       "</style>\n",
       "<table border=\"1\" class=\"dataframe\">\n",
       "  <thead>\n",
       "    <tr style=\"text-align: right;\">\n",
       "      <th></th>\n",
       "      <th>movieId</th>\n",
       "      <th>title</th>\n",
       "      <th>genres</th>\n",
       "      <th>Genres</th>\n",
       "    </tr>\n",
       "  </thead>\n",
       "  <tbody>\n",
       "    <tr>\n",
       "      <th>0</th>\n",
       "      <td>1</td>\n",
       "      <td>Toy Story (1995)</td>\n",
       "      <td>Adventure|Animation|Children|Comedy|Fantasy</td>\n",
       "      <td>Adventure Animation Children Comedy Fantasy</td>\n",
       "    </tr>\n",
       "    <tr>\n",
       "      <th>1</th>\n",
       "      <td>2</td>\n",
       "      <td>Jumanji (1995)</td>\n",
       "      <td>Adventure|Children|Fantasy</td>\n",
       "      <td>Adventure Children Fantasy</td>\n",
       "    </tr>\n",
       "    <tr>\n",
       "      <th>2</th>\n",
       "      <td>3</td>\n",
       "      <td>Grumpier Old Men (1995)</td>\n",
       "      <td>Comedy|Romance</td>\n",
       "      <td>Comedy Romance</td>\n",
       "    </tr>\n",
       "    <tr>\n",
       "      <th>3</th>\n",
       "      <td>4</td>\n",
       "      <td>Waiting to Exhale (1995)</td>\n",
       "      <td>Comedy|Drama|Romance</td>\n",
       "      <td>Comedy Drama Romance</td>\n",
       "    </tr>\n",
       "    <tr>\n",
       "      <th>4</th>\n",
       "      <td>5</td>\n",
       "      <td>Father of the Bride Part II (1995)</td>\n",
       "      <td>Comedy</td>\n",
       "      <td>Comedy</td>\n",
       "    </tr>\n",
       "  </tbody>\n",
       "</table>\n",
       "</div>"
      ],
      "text/plain": [
       "   movieId                               title  \\\n",
       "0        1                    Toy Story (1995)   \n",
       "1        2                      Jumanji (1995)   \n",
       "2        3             Grumpier Old Men (1995)   \n",
       "3        4            Waiting to Exhale (1995)   \n",
       "4        5  Father of the Bride Part II (1995)   \n",
       "\n",
       "                                        genres  \\\n",
       "0  Adventure|Animation|Children|Comedy|Fantasy   \n",
       "1                   Adventure|Children|Fantasy   \n",
       "2                               Comedy|Romance   \n",
       "3                         Comedy|Drama|Romance   \n",
       "4                                       Comedy   \n",
       "\n",
       "                                        Genres  \n",
       "0  Adventure Animation Children Comedy Fantasy  \n",
       "1                   Adventure Children Fantasy  \n",
       "2                               Comedy Romance  \n",
       "3                         Comedy Drama Romance  \n",
       "4                                       Comedy  "
      ]
     },
     "execution_count": 8,
     "metadata": {},
     "output_type": "execute_result"
    }
   ],
   "source": [
    "df['Genres'] = df['genres'].apply(lambda x: ' '.join(x.split('|')))\n",
    "df.head()"
   ]
  },
  {
   "cell_type": "code",
   "execution_count": null,
   "metadata": {},
   "outputs": [
    {
     "name": "stdout",
     "output_type": "stream",
     "text": [
      "Toy Story\n"
     ]
    }
   ],
   "source": [
    "example = df[\"title\"].iloc[0]\n",
    "title = example[:-7]\n",
    "print(title)"
   ]
  },
  {
   "cell_type": "code",
   "execution_count": null,
   "metadata": {},
   "outputs": [
    {
     "data": {
      "text/plain": [
       "0                      Toy Story \n",
       "1                        Jumanji \n",
       "2               Grumpier Old Men \n",
       "3              Waiting to Exhale \n",
       "4    Father of the Bride Part II \n",
       "Name: Title, dtype: object"
      ]
     },
     "execution_count": 10,
     "metadata": {},
     "output_type": "execute_result"
    }
   ],
   "source": [
    "df['Title'] = df[\"title\"].apply(lambda x:x[:-6])\n",
    "df['Title'].head()"
   ]
  },
  {
   "cell_type": "code",
   "execution_count": null,
   "metadata": {},
   "outputs": [
    {
     "data": {
      "text/plain": [
       "0    Toy Story Adventure Animation Children Comedy ...\n",
       "1                   Jumanji Adventure Children Fantasy\n",
       "2                      Grumpier Old Men Comedy Romance\n",
       "3               Waiting to Exhale Comedy Drama Romance\n",
       "4                   Father of the Bride Part II Comedy\n",
       "Name: Description, dtype: object"
      ]
     },
     "execution_count": 11,
     "metadata": {},
     "output_type": "execute_result"
    }
   ],
   "source": [
    "df['Description'] = df['Title'] + df['Genres']\n",
    "df['Description'].head()"
   ]
  },
  {
   "cell_type": "code",
   "execution_count": null,
   "metadata": {},
   "outputs": [
    {
     "name": "stdout",
     "output_type": "stream",
     "text": [
      "(27278, 21639)\n"
     ]
    }
   ],
   "source": [
    "# Créer un TfidfVectorizer et supprimer les mots vides\n",
    "tfidf = TfidfVectorizer(stop_words='english')\n",
    "\n",
    "# Adapter et transformer les données en une matrice tfidf\n",
    "matrice_tfidf = tfidf.fit_transform(df['Description'])\n",
    "\n",
    "# Afficher la forme de la matrice tfidf\n",
    "print(matrice_tfidf.shape)"
   ]
  },
  {
   "cell_type": "code",
   "execution_count": null,
   "metadata": {},
   "outputs": [],
   "source": [
    "# On calcule la similarité cosinus\n",
    "sim_cosinus = cosine_similarity(matrice_tfidf, matrice_tfidf)"
   ]
  },
  {
   "cell_type": "markdown",
   "metadata": {},
   "source": [
    "## Recommandation à partir d'un film donné"
   ]
  },
  {
   "cell_type": "code",
   "execution_count": null,
   "metadata": {},
   "outputs": [],
   "source": [
    "# Créer une série d'indices en utilisant la colonne 'title' comme index\n",
    "indices = pd.Series(range(0,len(df)), index=df['title'])"
   ]
  },
  {
   "cell_type": "code",
   "execution_count": null,
   "metadata": {},
   "outputs": [
    {
     "data": {
      "text/plain": [
       "title\n",
       "Toy Story (1995)                          0\n",
       "Jumanji (1995)                            1\n",
       "Grumpier Old Men (1995)                   2\n",
       "Waiting to Exhale (1995)                  3\n",
       "Father of the Bride Part II (1995)        4\n",
       "                                      ...  \n",
       "Kein Bund für's Leben (2007)          27273\n",
       "Feuer, Eis & Dosenbier (2002)         27274\n",
       "The Pirates (2014)                    27275\n",
       "Rentun Ruusu (2001)                   27276\n",
       "Innocence (2014)                      27277\n",
       "Length: 27278, dtype: int64"
      ]
     },
     "execution_count": 31,
     "metadata": {},
     "output_type": "execute_result"
    }
   ],
   "source": [
    "indices "
   ]
  },
  {
   "cell_type": "code",
   "execution_count": null,
   "metadata": {},
   "outputs": [],
   "source": [
    "def recommandations(titre, mat_sim, num_recommendations = 10):\n",
    "    # On récupère l'indice associé au titre qui servira à identifier le livre dans la matrice de similarité\n",
    "    idx = indices[titre]\n",
    "\n",
    "    # On obtient les scores de similarité de tous les livres avec le livre donée et on les garde les tuples d'indice du livre et score dans une liste\n",
    "    scores_similarite = list(enumerate(mat_sim[idx]))\n",
    "\n",
    "    # On trie les livres en fonction des scores de similarité\n",
    "    scores_similarite = sorted(scores_similarite, key=lambda x: x[1], reverse=True)\n",
    "\n",
    "    # Obtenir les scores des 10 livres les plus similaires\n",
    "    top_similair = scores_similarite[1:num_recommendations+1]\n",
    "\n",
    "    # Obtenir les indices des livres\n",
    "    res = [(indices.index[idx], score) for idx, score in top_similair]\n",
    "\n",
    "    # Renvoyer les titres des livres les plus similaires\n",
    "    return tabulate(res, headers=[\"Titre\", \"Score de similarité\"], tablefmt=\"pretty\")"
   ]
  },
  {
   "cell_type": "code",
   "execution_count": null,
   "metadata": {},
   "outputs": [
    {
     "name": "stdout",
     "output_type": "stream",
     "text": [
      "\n",
      " Recommandations pour 'Toy Story (1995)' similarité cosinus: \n",
      " +-------------------------------------------+---------------------+\n",
      "|                   Titre                   | Score de similarité |\n",
      "+-------------------------------------------+---------------------+\n",
      "|            Toy Story 2 (1999)             | 1.0000000000000002  |\n",
      "|            Toy Story 3 (2010)             | 0.9113859172333056  |\n",
      "|        Toy Story of Terror (2013)         | 0.7799092699536356  |\n",
      "|              Toy, The (1982)              | 0.6685923268757011  |\n",
      "|     Toy Story That Time Forgot (2014)     | 0.6499940292482791  |\n",
      "|     Toy Story Toons: Small Fry (2011)     | 0.6339633655169195  |\n",
      "| Toy Story Toons: Hawaiian Vacation (2011) | 0.6299998199532924  |\n",
      "|              Tin Toy (1988)               | 0.6067693062477115  |\n",
      "|         Christmas Toy, The (1986)         | 0.5547788491819647  |\n",
      "|   We're Back! A Dinosaur's Story (1993)   | 0.5351749833344537  |\n",
      "+-------------------------------------------+---------------------+\n"
     ]
    }
   ],
   "source": [
    "print(\"\\n Recommandations pour 'Toy Story (1995)' similarité cosinus: \\n\",recommandations('Toy Story (1995)', sim_cosinus))"
   ]
  },
  {
   "cell_type": "markdown",
   "metadata": {},
   "source": [
    "## Essai de recommandation pour un user donné à partir du film qu'il a regardé en dernier et de son film préféré"
   ]
  },
  {
   "cell_type": "code",
   "execution_count": null,
   "metadata": {},
   "outputs": [
    {
     "data": {
      "text/html": [
       "<div>\n",
       "<style scoped>\n",
       "    .dataframe tbody tr th:only-of-type {\n",
       "        vertical-align: middle;\n",
       "    }\n",
       "\n",
       "    .dataframe tbody tr th {\n",
       "        vertical-align: top;\n",
       "    }\n",
       "\n",
       "    .dataframe thead th {\n",
       "        text-align: right;\n",
       "    }\n",
       "</style>\n",
       "<table border=\"1\" class=\"dataframe\">\n",
       "  <thead>\n",
       "    <tr style=\"text-align: right;\">\n",
       "      <th></th>\n",
       "      <th>userId</th>\n",
       "      <th>movieId</th>\n",
       "      <th>rating</th>\n",
       "      <th>timestamp</th>\n",
       "    </tr>\n",
       "  </thead>\n",
       "  <tbody>\n",
       "    <tr>\n",
       "      <th>0</th>\n",
       "      <td>1</td>\n",
       "      <td>2</td>\n",
       "      <td>3.5</td>\n",
       "      <td>1112486027</td>\n",
       "    </tr>\n",
       "    <tr>\n",
       "      <th>1</th>\n",
       "      <td>1</td>\n",
       "      <td>29</td>\n",
       "      <td>3.5</td>\n",
       "      <td>1112484676</td>\n",
       "    </tr>\n",
       "    <tr>\n",
       "      <th>2</th>\n",
       "      <td>1</td>\n",
       "      <td>32</td>\n",
       "      <td>3.5</td>\n",
       "      <td>1112484819</td>\n",
       "    </tr>\n",
       "    <tr>\n",
       "      <th>3</th>\n",
       "      <td>1</td>\n",
       "      <td>47</td>\n",
       "      <td>3.5</td>\n",
       "      <td>1112484727</td>\n",
       "    </tr>\n",
       "    <tr>\n",
       "      <th>4</th>\n",
       "      <td>1</td>\n",
       "      <td>50</td>\n",
       "      <td>3.5</td>\n",
       "      <td>1112484580</td>\n",
       "    </tr>\n",
       "  </tbody>\n",
       "</table>\n",
       "</div>"
      ],
      "text/plain": [
       "   userId  movieId  rating   timestamp\n",
       "0       1        2     3.5  1112486027\n",
       "1       1       29     3.5  1112484676\n",
       "2       1       32     3.5  1112484819\n",
       "3       1       47     3.5  1112484727\n",
       "4       1       50     3.5  1112484580"
      ]
     },
     "execution_count": 19,
     "metadata": {},
     "output_type": "execute_result"
    }
   ],
   "source": [
    "# Import du jeu de données de rating par les users\n",
    "df = pd.read_csv('../data/ratings.csv')\n",
    "df.head()"
   ]
  },
  {
   "cell_type": "code",
   "execution_count": null,
   "metadata": {},
   "outputs": [],
   "source": [
    "user_id = 1"
   ]
  },
  {
   "cell_type": "code",
   "execution_count": null,
   "metadata": {},
   "outputs": [
    {
     "data": {
      "text/plain": [
       "(175, 4)"
      ]
     },
     "execution_count": 21,
     "metadata": {},
     "output_type": "execute_result"
    }
   ],
   "source": [
    "df_user = df[df[\"userId\"] == user_id]\n",
    "df_user.shape"
   ]
  },
  {
   "cell_type": "code",
   "execution_count": null,
   "metadata": {},
   "outputs": [],
   "source": [
    "df_last_movie = df_user[df_user[\"timestamp\"] == df_user[\"timestamp\"].max()]\n",
    "df_favorite_movie = df_user[df_user[\"rating\"] == df_user[\"rating\"].max()].iloc[0]"
   ]
  },
  {
   "cell_type": "code",
   "execution_count": null,
   "metadata": {},
   "outputs": [
    {
     "data": {
      "text/html": [
       "<div>\n",
       "<style scoped>\n",
       "    .dataframe tbody tr th:only-of-type {\n",
       "        vertical-align: middle;\n",
       "    }\n",
       "\n",
       "    .dataframe tbody tr th {\n",
       "        vertical-align: top;\n",
       "    }\n",
       "\n",
       "    .dataframe thead th {\n",
       "        text-align: right;\n",
       "    }\n",
       "</style>\n",
       "<table border=\"1\" class=\"dataframe\">\n",
       "  <thead>\n",
       "    <tr style=\"text-align: right;\">\n",
       "      <th></th>\n",
       "      <th>userId</th>\n",
       "      <th>movieId</th>\n",
       "      <th>rating</th>\n",
       "      <th>timestamp</th>\n",
       "    </tr>\n",
       "  </thead>\n",
       "  <tbody>\n",
       "    <tr>\n",
       "      <th>62</th>\n",
       "      <td>1</td>\n",
       "      <td>1750</td>\n",
       "      <td>3.5</td>\n",
       "      <td>1112486201</td>\n",
       "    </tr>\n",
       "  </tbody>\n",
       "</table>\n",
       "</div>"
      ],
      "text/plain": [
       "    userId  movieId  rating   timestamp\n",
       "62       1     1750     3.5  1112486201"
      ]
     },
     "execution_count": 29,
     "metadata": {},
     "output_type": "execute_result"
    }
   ],
   "source": [
    "df_last_movie"
   ]
  },
  {
   "cell_type": "code",
   "execution_count": null,
   "metadata": {},
   "outputs": [
    {
     "data": {
      "text/plain": [
       "'Lost in Space (1998)'"
      ]
     },
     "execution_count": 39,
     "metadata": {},
     "output_type": "execute_result"
    }
   ],
   "source": [
    "last_movie = indices.index[df_last_movie['movieId'].iloc[0]]\n",
    "last_movie"
   ]
  },
  {
   "cell_type": "code",
   "execution_count": null,
   "metadata": {},
   "outputs": [
    {
     "data": {
      "text/plain": [
       "userId       1.000000e+00\n",
       "movieId      4.993000e+03\n",
       "rating       5.000000e+00\n",
       "timestamp    1.112485e+09\n",
       "Name: 131, dtype: float64"
      ]
     },
     "execution_count": 37,
     "metadata": {},
     "output_type": "execute_result"
    }
   ],
   "source": [
    "df_favorite_movie"
   ]
  },
  {
   "cell_type": "code",
   "execution_count": null,
   "metadata": {},
   "outputs": [
    {
     "data": {
      "text/plain": [
       "'Honky Tonk Freeway (1981)'"
      ]
     },
     "execution_count": 40,
     "metadata": {},
     "output_type": "execute_result"
    }
   ],
   "source": [
    "favorite_movie = indices.index[int(df_favorite_movie['movieId'])]\n",
    "favorite_movie"
   ]
  },
  {
   "cell_type": "markdown",
   "metadata": {},
   "source": [
    "#### A partir du film regardé en dernier"
   ]
  },
  {
   "cell_type": "code",
   "execution_count": null,
   "metadata": {},
   "outputs": [
    {
     "name": "stdout",
     "output_type": "stream",
     "text": [
      "\n",
      " Recommandations pour Lost in Space (1998) similarité cosinus: \n",
      " +-----------------------------+---------------------+\n",
      "|            Titre            | Score de similarité |\n",
      "+-----------------------------+---------------------+\n",
      "|     All Is Lost (2013)      |  0.656127983156011  |\n",
      "|   Land of the Lost (2009)   | 0.6394915857680674  |\n",
      "|   Lost World, The (1925)    | 0.6333715363502492  |\n",
      "|    Space Cowboys (2000)     | 0.6092701678548771  |\n",
      "| First Man Into Space (1959) | 0.6055234948925605  |\n",
      "|  Attack from Space (1965)   | 0.6019934047155743  |\n",
      "|    Space Raiders (1983)     |  0.591531886876905  |\n",
      "|        Space (1985)         | 0.5793810513098876  |\n",
      "| Invaders from Space (1965)  | 0.5624220066315129  |\n",
      "|  Space Is The Place (1974)  | 0.5541816904744011  |\n",
      "+-----------------------------+---------------------+\n"
     ]
    }
   ],
   "source": [
    "print(\"\\n Recommandations pour {} similarité cosinus: \\n\".format(last_movie),recommandations(last_movie, sim_cosinus))"
   ]
  },
  {
   "cell_type": "markdown",
   "metadata": {},
   "source": [
    "#### A partir du film préféré"
   ]
  },
  {
   "cell_type": "code",
   "execution_count": null,
   "metadata": {},
   "outputs": [
    {
     "name": "stdout",
     "output_type": "stream",
     "text": [
      "\n",
      " Recommandations pour Honky Tonk Freeway (1981) similarité cosinus: \n",
      " +-----------------------------------------------+---------------------+\n",
      "|                     Titre                     | Score de similarité |\n",
      "+-----------------------------------------------+---------------------+\n",
      "|                Freeway (1988)                 | 0.5156516291820995  |\n",
      "|                Freeway (1996)                 | 0.4991891124414969  |\n",
      "| Freeway II: Confessions of a Trickbaby (1999) | 0.2988404653926198  |\n",
      "|                B*A*P*S (1997)                 | 0.12222530172715305 |\n",
      "|                In & Out (1997)                | 0.12222530172715305 |\n",
      "|                H.O.T.S. (1979)                | 0.12222530172715305 |\n",
      "|                  Made (2001)                  | 0.12222530172715305 |\n",
      "|                 S.O.B. (1981)                 | 0.12222530172715305 |\n",
      "|              Another You (1991)               | 0.12222530172715305 |\n",
      "|            One, Two, Three (1961)             | 0.12222530172715305 |\n",
      "+-----------------------------------------------+---------------------+\n"
     ]
    }
   ],
   "source": [
    "print(\"\\n Recommandations pour {} similarité cosinus: \\n\".format(favorite_movie),recommandations(favorite_movie, sim_cosinus))"
   ]
  },
  {
   "cell_type": "code",
   "execution_count": null,
   "metadata": {},
   "outputs": [],
   "source": []
  }
 ],
 "metadata": {
  "kernelspec": {
   "display_name": "base",
   "language": "python",
   "name": "python3"
  },
  "language_info": {
   "codemirror_mode": {
    "name": "ipython",
    "version": 3
   },
   "file_extension": ".py",
   "mimetype": "text/x-python",
   "name": "python",
   "nbconvert_exporter": "python",
   "pygments_lexer": "ipython3",
   "version": "3.11.5"
  }
 },
 "nbformat": 4,
 "nbformat_minor": 2
}
